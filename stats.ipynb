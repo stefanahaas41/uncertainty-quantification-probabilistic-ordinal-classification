{
 "cells": [
  {
   "cell_type": "code",
   "metadata": {
    "collapsed": true,
    "ExecuteTime": {
     "end_time": "2024-12-12T06:56:39.576683Z",
     "start_time": "2024-12-12T06:56:39.544745Z"
    }
   },
   "source": [
    "import pandas as pd\n",
    "#https://github.com/mirkobunse/critdd\n",
    "from critdd import Diagram\n",
    "\n",
    "data = pd.read_csv(\"./LGBM_prr_result_total_raw.csv\", sep=',')\n",
    "data = data.fillna(0)\n",
    "\n",
    "# Filter on certain metric\n",
    "#data = data[data[\"Metric\"] == \"ACC\"  ]\n",
    "data = data[(data[\"Metric\"] == \"ACC\") | (data[\"Metric\"] == \"MAE\") ]\n",
    "#data = data[data[\"Metric\"] == METRIC ]\n",
    "\n",
    "\n",
    "\n",
    "data = data.drop(columns = [\"$\\\\text{CONS}_{\\\\,C_1}$\",\"$\\\\text{ORD}_{\\\\,\\\\text{MARG}}$\"])\n",
    "data = data.rename(columns={\"$R_{l_1}$\": \"$\\\\text{CONS}_{\\\\,C_1}$/$\\\\text{ORD}_{\\\\,\\\\text{MARG}}$/$R_{l_1}$\"})\n",
    "\n",
    "data = data.drop(columns = [\"$\\\\text{CONS}_{\\\\,C_2}$\"])\n",
    "data = data.rename(columns={\"$\\\\text{ORD}_{\\\\,\\\\text{VAR}}$\": \"$\\\\text{CONS}_{\\\\,C_2}$/$\\\\text{ORD}_{\\\\,\\\\text{VAR}}$\"})\n",
    "\n",
    "data = data.set_index([\"Dataset\",\"Metric\"])\n",
    "\n"
   ],
   "outputs": [],
   "execution_count": 4
  },
  {
   "metadata": {
    "ExecuteTime": {
     "end_time": "2024-12-12T06:56:39.624071Z",
     "start_time": "2024-12-12T06:56:39.576683Z"
    }
   },
   "cell_type": "code",
   "source": [
    "# https://github.com/mirkobunse/critdd\n",
    "# create a CD diagram from the Pandas DataFrame\n",
    "diagram = Diagram(\n",
    "    data.to_numpy(),\n",
    "    treatment_names = data.columns,\n",
    "    maximize_outcome = True\n",
    ")\n",
    "\n",
    "# inspect average ranks and groups of statistically indistinguishable treatments\n",
    "diagram.average_ranks # the average rank of each treatment\n",
    "diagram.get_groups(alpha=.05, adjustment=\"holm\")\n",
    "\n",
    "# export the diagram to a file\n",
    "diagram.to_file(\n",
    "    \"cd_result.tex\",\n",
    "    alpha = .05,\n",
    "    adjustment = \"holm\",\n",
    "    reverse_x = False,\n",
    "    axis_options = {\"title\": ''},\n",
    ")"
   ],
   "outputs": [
    {
     "name": "stderr",
     "output_type": "stream",
     "text": [
      "C:\\Users\\Q454199\\projects\\uncertainty-quantification-probabilistic-ordinal-classification\\venv\\lib\\site-packages\\scipy\\stats\\_wilcoxon.py:199: UserWarning: Exact p-value calculation does not work if there are zeros. Switching to normal approximation.\n",
      "  temp = _wilcoxon_iv(x, y, zero_method, correction, alternative, method, axis)\n"
     ]
    }
   ],
   "execution_count": 5
  }
 ],
 "metadata": {
  "kernelspec": {
   "display_name": "Python 3",
   "language": "python",
   "name": "python3"
  },
  "language_info": {
   "codemirror_mode": {
    "name": "ipython",
    "version": 2
   },
   "file_extension": ".py",
   "mimetype": "text/x-python",
   "name": "python",
   "nbconvert_exporter": "python",
   "pygments_lexer": "ipython2",
   "version": "2.7.6"
  }
 },
 "nbformat": 4,
 "nbformat_minor": 0
}
