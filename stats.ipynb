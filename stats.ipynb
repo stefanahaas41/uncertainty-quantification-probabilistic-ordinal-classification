{
 "cells": [
  {
   "cell_type": "code",
   "execution_count": null,
   "metadata": {
    "collapsed": true
   },
   "outputs": [],
   "source": [
    "import pandas as pd\n",
    "from autorank import autorank\n",
    "from critdd import Diagram\n",
    "\n",
    "\n",
    "data = pd.read_csv(\"./LGBM_prr_result_raw.csv\", sep=',')\n",
    "#data = pd.read_csv(\"./totals_goodwill_raw.txt\", sep=',')\n",
    "\n",
    "# Filter on certain metric\n",
    "#data = data[(data[\"Metric\"] == \"MSE\") | (data[\"Metric\"] == \"ACC\")  ]\n",
    "\n",
    "\n",
    "data = data.drop(columns = [\"Consensus (Leik)\",\"Binary (Margin)\"])\n",
    "\n",
    "\n",
    "\n",
    "data = data.set_index([\"Dataset\",\"Metric\"])\n",
    "\n",
    "\n",
    "# https://github.com/mirkobunse/critdd\n",
    "# create a CD diagram from the Pandas DataFrame\n",
    "diagram = Diagram(\n",
    "    data.to_numpy(),\n",
    "    treatment_names = data.columns,\n",
    "    maximize_outcome = True\n",
    ")\n",
    "\n",
    "# inspect average ranks and groups of statistically indistinguishable treatments\n",
    "diagram.average_ranks # the average rank of each treatment\n",
    "diagram.get_groups(alpha=.05, adjustment=\"holm\")\n",
    "\n",
    "# export the diagram to a file\n",
    "diagram.to_file(\n",
    "    \"cd_result.tex\",\n",
    "    alpha = .05,\n",
    "    adjustment = \"holm\",\n",
    "    reverse_x = True,\n",
    "    axis_options = {\"title\": \"\"},\n",
    ")\n",
    "\n"
   ]
  },
  {
   "cell_type": "code",
   "execution_count": null,
   "outputs": [],
   "source": [
    "result = autorank(data, alpha=.05, verbose=True, force_mode='nonparametric')\n",
    "result.rankdf.sort_values(by=['meanrank'])[['meanrank','median','mad']].round(3).to_csv(\"ranks.txt\")\n"
   ],
   "metadata": {
    "collapsed": false
   }
  }
 ],
 "metadata": {
  "kernelspec": {
   "display_name": "Python 3",
   "language": "python",
   "name": "python3"
  },
  "language_info": {
   "codemirror_mode": {
    "name": "ipython",
    "version": 2
   },
   "file_extension": ".py",
   "mimetype": "text/x-python",
   "name": "python",
   "nbconvert_exporter": "python",
   "pygments_lexer": "ipython2",
   "version": "2.7.6"
  }
 },
 "nbformat": 4,
 "nbformat_minor": 0
}
