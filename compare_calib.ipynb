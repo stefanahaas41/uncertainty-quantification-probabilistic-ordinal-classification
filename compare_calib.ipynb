{
 "cells": [
  {
   "cell_type": "code",
   "id": "initial_id",
   "metadata": {
    "collapsed": true,
    "ExecuteTime": {
     "end_time": "2025-01-13T21:26:31.267378Z",
     "start_time": "2025-01-13T21:26:31.244211Z"
    }
   },
   "source": [
    "import pandas as pd\n",
    "\n",
    "lgbm_df = pd.read_csv('./results/LGBM/performance.txt',sep=\",\")\n",
    "simple_df = pd.read_csv('./results/SIMPLE/performance.txt',sep=\",\")\n",
    "simple_mlp_df = pd.read_csv('./results/SIMPLE_MLP/performance.txt',sep=\",\")\n",
    "mlp_df = pd.read_csv('./results/MLP/performance.txt',sep=\",\")\n",
    "qwk_df = pd.read_csv('./results/QWK/performance.txt',sep=\",\")\n",
    "beta_df= pd.read_csv('./results/BETA/performance.txt',sep=\",\")\n",
    "tri_df = pd.read_csv('./results/TRI/performance.txt',sep=\",\")"
   ],
   "outputs": [],
   "execution_count": 54
  },
  {
   "metadata": {
    "ExecuteTime": {
     "end_time": "2025-01-13T21:26:31.299181Z",
     "start_time": "2025-01-13T21:26:31.267378Z"
    }
   },
   "cell_type": "code",
   "source": [
    "data = [\n",
    "    {'Predictor': 'LGBM', \n",
    "     'ACC': f\"{lgbm_df['ACC'].mean():.3f} \\\\textpm {lgbm_df['ACC'].std():.3f}\",\n",
    "     'MAE': f\"{lgbm_df['MAE'].mean():.3f} \\\\textpm {lgbm_df['MAE'].std():.3f}\",\n",
    "     'MSE': f\"{lgbm_df['MSE'].mean():.3f} \\\\textpm {lgbm_df['MSE'].std():.3f}\",\n",
    "     'QWK': f\"{lgbm_df['QWK'].mean():.3f} \\\\textpm {lgbm_df['QWK'].std():.3f}\",\n",
    "     'NLL': f\"{lgbm_df['NLL'].mean():.3f} \\\\textpm {lgbm_df['NLL'].std():.3f}\",\n",
    "     'BS': f\"{lgbm_df['BRIER'].mean():.3f} \\\\textpm {lgbm_df['BRIER'].std():.3f}\",\n",
    "     'ECE': f\"{lgbm_df['ECE'].mean():.3f} \\\\textpm {lgbm_df['ECE'].std():.3f}\"\n",
    "     },\n",
    "    {'Predictor': 'SLGBM', \n",
    "     'ACC': f\"{simple_df['ACC'].mean():.3f} \\\\textpm {simple_df['ACC'].std():.3f}\",\n",
    "     'MAE': f\"{simple_df['MAE'].mean():.3f} \\\\textpm {simple_df['MAE'].std():.3f}\",\n",
    "     'MSE': f\"{simple_df['MSE'].mean():.3f} \\\\textpm {simple_df['MSE'].std():.3f}\",\n",
    "     'QWK': f\"{simple_df['QWK'].mean():.3f} \\\\textpm {simple_df['QWK'].std():.3f}\",\n",
    "      'NLL': f\"{simple_df['NLL'].mean():.3f} \\\\textpm {simple_df['NLL'].std():.3f}\",\n",
    "     'BS': f\"{simple_df['BRIER'].mean():.3f} \\\\textpm {simple_df['BRIER'].std():.3f}\",\n",
    "     'ECE': f\"{simple_df['ECE'].mean():.3f} \\\\textpm {simple_df['ECE'].std():.3f}\"\n",
    "     },\n",
    "    {'Predictor': 'MLP', \n",
    "     'ACC': f\"{mlp_df['ACC'].mean():.3f} \\\\textpm {mlp_df['ACC'].std():.3f}\",\n",
    "     'MAE': f\"{mlp_df['MAE'].mean():.3f} \\\\textpm {mlp_df['MAE'].std():.3f}\",\n",
    "     'MSE': f\"{mlp_df['MSE'].mean():.3f} \\\\textpm {mlp_df['MSE'].std():.3f}\",\n",
    "     'QWK': f\"{mlp_df['QWK'].mean():.3f} \\\\textpm {mlp_df['QWK'].std():.3f}\",\n",
    "     'NLL': f\"{mlp_df['NLL'].mean():.3f} \\\\textpm {mlp_df['NLL'].std():.3f}\",\n",
    "     'BS': f\"{mlp_df['BRIER'].mean():.3f} \\\\textpm {mlp_df['BRIER'].std():.3f}\",\n",
    "     'ECE': f\"{mlp_df['ECE'].mean():.3f} \\\\textpm {mlp_df['ECE'].std():.3f}\"\n",
    "     },\n",
    "    {'Predictor': 'SMLP', \n",
    "     'ACC': f\"{simple_mlp_df['ACC'].mean():.3f} \\\\textpm {simple_mlp_df['ACC'].std():.3f}\",\n",
    "     'MAE': f\"{simple_mlp_df['MAE'].mean():.3f} \\\\textpm {simple_mlp_df['MAE'].std():.3f}\",\n",
    "     'MSE': f\"{simple_mlp_df['MSE'].mean():.3f} \\\\textpm {simple_mlp_df['MSE'].std():.3f}\",\n",
    "     'QWK': f\"{simple_mlp_df['QWK'].mean():.3f} \\\\textpm {simple_mlp_df['QWK'].std():.3f}\",\n",
    "     'NLL': f\"{simple_mlp_df['NLL'].mean():.3f} \\\\textpm {simple_mlp_df['NLL'].std():.3f}\",\n",
    "     'BS': f\"{simple_mlp_df['BRIER'].mean():.3f} \\\\textpm {simple_mlp_df['BRIER'].std():.3f}\",\n",
    "     'ECE': f\"{simple_mlp_df['ECE'].mean():.3f} \\\\textpm {simple_mlp_df['ECE'].std():.3f}\"\n",
    "     },\n",
    "    {'Predictor': 'QWK', \n",
    "     'ACC': f\"{qwk_df['ACC'].mean():.3f} \\\\textpm {qwk_df['ACC'].std():.3f}\",\n",
    "     'MAE': f\"{qwk_df['MAE'].mean():.3f} \\\\textpm {qwk_df['MAE'].std():.3f}\",\n",
    "     'MSE': f\"{qwk_df['MSE'].mean():.3f} \\\\textpm {qwk_df['MSE'].std():.3f}\",\n",
    "     'QWK': f\"{qwk_df['QWK'].mean():.3f} \\\\textpm {qwk_df['QWK'].std():.3f}\",\n",
    "     'NLL': f\"{qwk_df['NLL'].mean():.3f} \\\\textpm {qwk_df['NLL'].std():.3f}\",\n",
    "     'BS': f\"{qwk_df['BRIER'].mean():.3f} \\\\textpm {qwk_df['BRIER'].std():.3f}\",\n",
    "     'ECE': f\"{qwk_df['ECE'].mean():.3f} \\\\textpm {qwk_df['ECE'].std():.3f}\"\n",
    "     },\n",
    "    {'Predictor': 'BETA', \n",
    "     'ACC': f\"{beta_df['ACC'].mean():.3f} \\\\textpm {beta_df['ACC'].std():.3f}\",\n",
    "     'MAE': f\"{beta_df['MAE'].mean():.3f} \\\\textpm {beta_df['MAE'].std():.3f}\",\n",
    "     'MSE': f\"{beta_df['MSE'].mean():.3f} \\\\textpm {beta_df['MSE'].std():.3f}\",\n",
    "     'QWK': f\"{beta_df['QWK'].mean():.3f} \\\\textpm {beta_df['QWK'].std():.3f}\",\n",
    "     'NLL': f\"{beta_df['NLL'].mean():.3f} \\\\textpm {beta_df['NLL'].std():.3f}\",\n",
    "     'BS': f\"{beta_df['BRIER'].mean():.3f} \\\\textpm {beta_df['BRIER'].std():.3f}\",\n",
    "     'ECE': f\"{beta_df['ECE'].mean():.3f} \\\\textpm {beta_df['ECE'].std():.3f}\"\n",
    "     },\n",
    "    {'Predictor': 'TRI', \n",
    "     'ACC': f\"{tri_df['ACC'].mean():.3f} \\\\textpm {tri_df['ACC'].std():.3f}\",\n",
    "     'MAE': f\"{tri_df['MAE'].mean():.3f} \\\\textpm {tri_df['MAE'].std():.3f}\",\n",
    "     'MSE': f\"{tri_df['MSE'].mean():.3f} \\\\textpm {tri_df['MSE'].std():.3f}\",\n",
    "     'QWK': f\"{tri_df['QWK'].mean():.3f} \\\\textpm {tri_df['QWK'].std():.3f}\",\n",
    "     'NLL': f\"{tri_df['NLL'].mean():.3f} \\\\textpm {tri_df['NLL'].std():.3f}\",\n",
    "     'BS': f\"{tri_df['BRIER'].mean():.3f} \\\\textpm {tri_df['BRIER'].std():.3f}\",\n",
    "     'ECE': f\"{tri_df['ECE'].mean():.3f} \\\\textpm {tri_df['ECE'].std():.3f}\"\n",
    "     },\n",
    "\n",
    "]\n",
    "\n",
    "df = pd.DataFrame(data)\n",
    "\n",
    "df.to_latex('performance.tex',index=False)"
   ],
   "id": "5d2cd2d612a8ac1e",
   "outputs": [],
   "execution_count": 55
  }
 ],
 "metadata": {
  "kernelspec": {
   "display_name": "Python 3",
   "language": "python",
   "name": "python3"
  },
  "language_info": {
   "codemirror_mode": {
    "name": "ipython",
    "version": 2
   },
   "file_extension": ".py",
   "mimetype": "text/x-python",
   "name": "python",
   "nbconvert_exporter": "python",
   "pygments_lexer": "ipython2",
   "version": "2.7.6"
  }
 },
 "nbformat": 4,
 "nbformat_minor": 5
}
